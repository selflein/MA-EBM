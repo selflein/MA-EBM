{
 "cells": [
  {
   "cell_type": "code",
   "execution_count": 1,
   "id": "8a151b29",
   "metadata": {},
   "outputs": [
    {
     "name": "stdout",
     "output_type": "stream",
     "text": [
      "/nfs/homedirs/elfleins/Developer/baseline\n"
     ]
    }
   ],
   "source": [
    "%cd ..\n",
    "%load_ext autoreload\n",
    "%autoreload 2"
   ]
  },
  {
   "cell_type": "code",
   "execution_count": 2,
   "id": "3a609c94",
   "metadata": {},
   "outputs": [],
   "source": [
    "from pathlib import Path\n",
    "\n",
    "import torch\n",
    "import yaml\n",
    "from pytorch_lightning import Trainer\n",
    "\n",
    "from uncertainty_est.models import DeepEnsemble\n",
    "from uncertainty_est.models import load_checkpoint, load_model, resolve_model_checkpoint\n",
    "from uncertainty_est.archs.arch_factory import get_arch\n",
    "from uncertainty_est.data.dataloaders import get_dataloader, get_dataset"
   ]
  },
  {
   "cell_type": "code",
   "execution_count": 24,
   "id": "8cb91fff",
   "metadata": {},
   "outputs": [
    {
     "data": {
      "text/plain": [
       "[PosixPath('thesis_logs/cifar10/CE Baseline/version_3/epoch=62-step=88577.ckpt'),\n",
       " PosixPath('thesis_logs/cifar10/CE Baseline/version_0/epoch=48-step=68893.ckpt'),\n",
       " PosixPath('thesis_logs/cifar10/CE Baseline/version_2/epoch=47-step=67487.ckpt'),\n",
       " PosixPath('thesis_logs/cifar10/CE Baseline/version_4/epoch=60-step=85765.ckpt'),\n",
       " PosixPath('thesis_logs/cifar10/CE Baseline/version_1/epoch=33-step=47803.ckpt')]"
      ]
     },
     "execution_count": 24,
     "metadata": {},
     "output_type": "execute_result"
    }
   ],
   "source": [
    "checkpoint_dir = Path(\"./thesis_logs/cifar10/CE Baseline/\")\n",
    "output_folder = Path(\"./thesis_logs/cifar10/Ensemble/version_0/\")\n",
    "output_folder.mkdir(exist_ok=True, parents=True)\n",
    "\n",
    "version_dirs = checkpoint_dir.glob(\"**/version_*\")\n",
    "checkpoints = [resolve_model_checkpoint(d) for d in version_dirs]\n",
    "checkpoints"
   ]
  },
  {
   "cell_type": "code",
   "execution_count": 25,
   "id": "067a4675",
   "metadata": {},
   "outputs": [
    {
     "name": "stdout",
     "output_type": "stream",
     "text": [
      "| Wide-Resnet 16x8\n"
     ]
    }
   ],
   "source": [
    "ebm, config = load_checkpoint(checkpoints[0])"
   ]
  },
  {
   "cell_type": "code",
   "execution_count": 26,
   "id": "8268dc3a",
   "metadata": {},
   "outputs": [
    {
     "name": "stdout",
     "output_type": "stream",
     "text": [
      "| Wide-Resnet 16x8\n",
      "| Wide-Resnet 16x8\n",
      "1\n",
      "| Wide-Resnet 16x8\n",
      "2\n",
      "| Wide-Resnet 16x8\n",
      "3\n",
      "| Wide-Resnet 16x8\n",
      "4\n"
     ]
    },
    {
     "data": {
      "text/plain": [
       "5"
      ]
     },
     "execution_count": 26,
     "metadata": {},
     "output_type": "execute_result"
    }
   ],
   "source": [
    "de = DeepEnsemble(**config[\"model_config\"], num_models=len(checkpoints))\n",
    "\n",
    "for i, ckpt in enumerate(checkpoints[1:], 1):\n",
    "    backbone = get_arch(de.hparams.arch_name, de.hparams.arch_config)\n",
    "    # Remove the first module name in order to load backbone model\n",
    "    strip_sd = {\n",
    "        k.split(\".\", 1)[1]: v for k, v in torch.load(ckpt)[\"state_dict\"].items()\n",
    "    }\n",
    "    print(i)\n",
    "    backbone.load_state_dict(strip_sd)\n",
    "    de.models[i] = backbone\n",
    "len(de.models)"
   ]
  },
  {
   "cell_type": "code",
   "execution_count": 27,
   "id": "2b981e82",
   "metadata": {},
   "outputs": [
    {
     "name": "stdout",
     "output_type": "stream",
     "text": [
      "Files already downloaded and verified\n"
     ]
    }
   ],
   "source": [
    "id_dl = get_dataloader(config[\"dataset\"], \"test\")\n",
    "dl = get_dataloader(\"mnist\", \"test\", data_shape=id_dl.dataset.data_shape)"
   ]
  },
  {
   "cell_type": "code",
   "execution_count": 28,
   "id": "ceefaf4c",
   "metadata": {},
   "outputs": [
    {
     "name": "stderr",
     "output_type": "stream",
     "text": [
      "100%|██████████| 313/313 [00:41<00:00,  7.51it/s]\n"
     ]
    },
    {
     "data": {
      "text/plain": [
       "tensor(0.9335)"
      ]
     },
     "execution_count": 28,
     "metadata": {},
     "output_type": "execute_result"
    }
   ],
   "source": [
    "de.eval()\n",
    "de.cuda()\n",
    "gt, pred = de.get_gt_preds(id_dl)\n",
    "\n",
    "(torch.argmax(pred, 1) == gt).float().mean()"
   ]
  },
  {
   "cell_type": "code",
   "execution_count": 29,
   "id": "7458f9fc",
   "metadata": {},
   "outputs": [
    {
     "name": "stderr",
     "output_type": "stream",
     "text": [
      "313it [00:41,  7.49it/s]\n",
      "0it [00:00, ?it/s]"
     ]
    },
    {
     "name": "stdout",
     "output_type": "stream",
     "text": [
      "output with shape [1, 32, 32] doesn't match the broadcast shape [3, 32, 32]\n"
     ]
    },
    {
     "name": "stderr",
     "output_type": "stream",
     "text": [
      "\n"
     ]
    },
    {
     "data": {
      "text/plain": [
       "{}"
      ]
     },
     "execution_count": 29,
     "metadata": {},
     "output_type": "execute_result"
    }
   ],
   "source": [
    "de.eval_ood(id_dl, [(\"LSUN\", dl)])"
   ]
  },
  {
   "cell_type": "code",
   "execution_count": 30,
   "id": "509de4d3",
   "metadata": {},
   "outputs": [
    {
     "name": "stderr",
     "output_type": "stream",
     "text": [
      "GPU available: True, used: False\n",
      "TPU available: False, using: 0 TPU cores\n",
      "/nfs/homedirs/elfleins/.miniconda3/envs/ml/lib/python3.8/site-packages/pytorch_lightning/utilities/distributed.py:68: UserWarning: GPU available but not used. Set the --gpus flag when calling the script.\n",
      "  warnings.warn(*args, **kwargs)\n",
      "/nfs/homedirs/elfleins/.miniconda3/envs/ml/lib/python3.8/site-packages/pytorch_lightning/utilities/distributed.py:68: UserWarning: you defined a validation_step but have no val_dataloader. Skipping validation loop\n",
      "  warnings.warn(*args, **kwargs)\n",
      "/nfs/homedirs/elfleins/.miniconda3/envs/ml/lib/python3.8/site-packages/pytorch_lightning/utilities/distributed.py:68: UserWarning: `LightningModule.configure_optimizers` returned `None`, this fit will run with no optimizer\n",
      "  warnings.warn(*args, **kwargs)\n",
      "Set SLURM handle signals.\n",
      "\n",
      "  | Name     | Type       | Params\n",
      "----------------------------------------\n",
      "0 | backbone | WideResNet | 11.0 M\n",
      "1 | models   | ModuleList | 54.8 M\n",
      "----------------------------------------\n",
      "65.8 M    Trainable params\n",
      "0         Non-trainable params\n",
      "65.8 M    Total params\n",
      "263.008   Total estimated model params size (MB)\n"
     ]
    },
    {
     "data": {
      "application/vnd.jupyter.widget-view+json": {
       "model_id": "",
       "version_major": 2,
       "version_minor": 0
      },
      "text/plain": [
       "Validation sanity check: 0it [00:00, ?it/s]"
      ]
     },
     "metadata": {},
     "output_type": "display_data"
    },
    {
     "name": "stderr",
     "output_type": "stream",
     "text": [
      "/nfs/homedirs/elfleins/.miniconda3/envs/ml/lib/python3.8/site-packages/pytorch_lightning/utilities/distributed.py:68: UserWarning: The dataloader, train dataloader, does not have many workers which may be a bottleneck. Consider increasing the value of the `num_workers` argument` (try 20 which is the number of cpus on this machine) in the `DataLoader` init to improve performance.\n",
      "  warnings.warn(*args, **kwargs)\n"
     ]
    },
    {
     "data": {
      "application/vnd.jupyter.widget-view+json": {
       "model_id": "38d6a4aad5f44e8192a3fb06d638bfbe",
       "version_major": 2,
       "version_minor": 0
      },
      "text/plain": [
       "Training: 0it [00:00, ?it/s]"
      ]
     },
     "metadata": {},
     "output_type": "display_data"
    },
    {
     "data": {
      "text/plain": [
       "1"
      ]
     },
     "execution_count": 30,
     "metadata": {},
     "output_type": "execute_result"
    }
   ],
   "source": [
    "de.ood_val_datasets = None\n",
    "t = Trainer(max_epochs=0, default_root_dir=\"temp\")\n",
    "t.fit(de, dl)"
   ]
  },
  {
   "cell_type": "code",
   "execution_count": 31,
   "id": "7d4eefea",
   "metadata": {},
   "outputs": [],
   "source": [
    "t.save_checkpoint(output_folder / \"last.ckpt\")"
   ]
  },
  {
   "cell_type": "code",
   "execution_count": 32,
   "id": "d7432381",
   "metadata": {},
   "outputs": [],
   "source": [
    "config[\"model_config\"] = dict(de.hparams)\n",
    "config[\"model_name\"] = \"DeepEnsemble\""
   ]
  },
  {
   "cell_type": "code",
   "execution_count": 33,
   "id": "fb0eefdd",
   "metadata": {},
   "outputs": [
    {
     "data": {
      "text/plain": [
       "{'batch_size': 32,\n",
       " 'checkpoint_config': {'mode': 'max', 'monitor': 'val/acc'},\n",
       " 'data_shape': [32, 32, 3],\n",
       " 'dataset': 'cifar10',\n",
       " 'db_collection': 'cifar10',\n",
       " 'earlystop_config': {'mode': 'max', 'monitor': 'val/acc', 'patience': 10},\n",
       " 'log_dir': './thesis_logs',\n",
       " 'model_config': {'arch_name': 'wrn',\n",
       "  'arch_config': {'depth': 16,\n",
       "   'input_channels': 3,\n",
       "   'num_classes': 10,\n",
       "   'widen_factor': 8},\n",
       "  'learning_rate': 0.0001,\n",
       "  'momentum': 0.9,\n",
       "  'weight_decay': 0.0,\n",
       "  'data_shape': [32, 32, 3],\n",
       "  'ood_val_datasets': ['celeb-a', 'cifar100'],\n",
       "  'num_models': 5},\n",
       " 'model_name': 'DeepEnsemble',\n",
       " 'num_classes': 10,\n",
       " 'ood_dataset': None,\n",
       " 'output_folder': 'cifar10/ce_baseline_16_8',\n",
       " 'overwrite': 64,\n",
       " 'seed': 2324234,\n",
       " 'test_ood_datasets': ['lsun',\n",
       "  'textures',\n",
       "  'cifar100',\n",
       "  'svhn',\n",
       "  'celeb-a',\n",
       "  'uniform_noise',\n",
       "  'gaussian_noise',\n",
       "  'constant',\n",
       "  'svhn_unscaled'],\n",
       " 'trainer_config': {'benchmark': True, 'gpus': 1, 'max_epochs': 100}}"
      ]
     },
     "execution_count": 33,
     "metadata": {},
     "output_type": "execute_result"
    }
   ],
   "source": [
    "config"
   ]
  },
  {
   "cell_type": "code",
   "execution_count": 34,
   "id": "9575b3f1",
   "metadata": {},
   "outputs": [],
   "source": [
    "with (output_folder / \"config.yaml\").open(\"w\") as f:\n",
    "    f.write(yaml.dump(config))"
   ]
  },
  {
   "cell_type": "code",
   "execution_count": 35,
   "id": "deed4296",
   "metadata": {},
   "outputs": [
    {
     "name": "stdout",
     "output_type": "stream",
     "text": [
      "| Wide-Resnet 16x8\n"
     ]
    },
    {
     "data": {
      "text/plain": [
       "5"
      ]
     },
     "execution_count": 35,
     "metadata": {},
     "output_type": "execute_result"
    }
   ],
   "source": [
    "de, config = load_model(output_folder)\n",
    "len(de.models)"
   ]
  },
  {
   "cell_type": "code",
   "execution_count": 36,
   "id": "641d07a1",
   "metadata": {},
   "outputs": [
    {
     "name": "stderr",
     "output_type": "stream",
     "text": [
      "100%|██████████| 313/313 [00:41<00:00,  7.51it/s]\n"
     ]
    },
    {
     "data": {
      "text/plain": [
       "tensor(0.9335)"
      ]
     },
     "execution_count": 36,
     "metadata": {},
     "output_type": "execute_result"
    }
   ],
   "source": [
    "de.eval()\n",
    "de.cuda()\n",
    "gt, pred = de.get_gt_preds(id_dl)\n",
    "\n",
    "(torch.argmax(pred, 1) == gt).float().mean()"
   ]
  },
  {
   "cell_type": "code",
   "execution_count": 22,
   "id": "0bed427b",
   "metadata": {},
   "outputs": [
    {
     "name": "stderr",
     "output_type": "stream",
     "text": [
      "313it [00:40,  7.74it/s]\n",
      "313it [00:40,  7.74it/s]\n"
     ]
    },
    {
     "data": {
      "text/plain": [
       "{('LSUN', 'Variance', 'AUROC'): 54.333543500000005,\n",
       " ('LSUN', 'Variance', 'AUPR'): 46.981769481630884,\n",
       " ('LSUN', 'Variance', 'iAUROC'): 54.333543500000005,\n",
       " ('LSUN', 'Variance', 'iAUPR'): 66.78694661980643,\n",
       " ('LSUN', 'Entropy', 'AUROC'): 75.048826,\n",
       " ('LSUN', 'Entropy', 'AUPR'): 67.05583850562287,\n",
       " ('LSUN', 'Entropy', 'iAUROC'): 75.04882599999999,\n",
       " ('LSUN', 'Entropy', 'iAUPR'): 73.4901972956034}"
      ]
     },
     "execution_count": 22,
     "metadata": {},
     "output_type": "execute_result"
    }
   ],
   "source": [
    "de.eval_ood(id_dl, [(\"LSUN\", dl)])"
   ]
  },
  {
   "cell_type": "code",
   "execution_count": 9,
   "id": "2f8a42a2",
   "metadata": {},
   "outputs": [
    {
     "name": "stderr",
     "output_type": "stream",
     "text": [
      "100%|██████████| 313/313 [00:08<00:00, 38.17it/s]\n"
     ]
    },
    {
     "data": {
      "text/plain": [
       "{'Variance': array([ 9.197707 , 15.414769 ,  8.869913 , ..., 13.5622425, 11.11999  ,\n",
       "        15.780851 ], dtype=float32)}"
      ]
     },
     "execution_count": 9,
     "metadata": {},
     "output_type": "execute_result"
    }
   ],
   "source": [
    "de.ood_detect(dl)"
   ]
  },
  {
   "cell_type": "code",
   "execution_count": 23,
   "id": "36a94973",
   "metadata": {},
   "outputs": [
    {
     "data": {
      "text/plain": [
       "<All keys matched successfully>"
      ]
     },
     "execution_count": 23,
     "metadata": {},
     "output_type": "execute_result"
    }
   ],
   "source": [
    "de.load_state_dict(torch.load(output_folder / \"last.ckpt\")[\"state_dict\"])"
   ]
  },
  {
   "cell_type": "code",
   "execution_count": null,
   "id": "a1c43213",
   "metadata": {},
   "outputs": [],
   "source": []
  }
 ],
 "metadata": {
  "kernelspec": {
   "display_name": "Python [conda env:ml] *",
   "language": "python",
   "name": "conda-env-ml-py"
  },
  "language_info": {
   "codemirror_mode": {
    "name": "ipython",
    "version": 3
   },
   "file_extension": ".py",
   "mimetype": "text/x-python",
   "name": "python",
   "nbconvert_exporter": "python",
   "pygments_lexer": "ipython3",
   "version": "3.8.8"
  }
 },
 "nbformat": 4,
 "nbformat_minor": 5
}
